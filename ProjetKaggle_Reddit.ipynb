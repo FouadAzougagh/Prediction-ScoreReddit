{
 "cells": [
  {
   "cell_type": "markdown",
   "metadata": {},
   "source": [
    "# I - Bibliothèques et importation des données"
   ]
  },
  {
   "cell_type": "markdown",
   "metadata": {},
   "source": [
    "## 1 - Bibliothèques"
   ]
  },
  {
   "cell_type": "code",
   "execution_count": 1,
   "metadata": {},
   "outputs": [],
   "source": [
    "import pandas as pd\n",
    "import numpy as np \n",
    "import networkx as nx\n",
    "import sklearn\n",
    "import lightgbm as lgb\n",
    "import seaborn as sns\n",
    "import matplotlib.pyplot as plt\n",
    "import matplotlib.cm as cm\n",
    "\n",
    "from scipy import stats\n",
    "from datetime import datetime\n",
    "from statistics import mean\n",
    "from networkx.algorithms import community\n",
    "from tqdm import tqdm\n",
    "\n",
    "from nltk.tokenize import TreebankWordTokenizer\n",
    "from nltk.corpus import stopwords\n",
    "from nltk.stem import LancasterStemmer\n",
    "from nltk.sentiment.vader import SentimentIntensityAnalyzer\n",
    "\n",
    "from sklearn.linear_model import LogisticRegression\n",
    "from sklearn.tree import DecisionTreeClassifier\n",
    "from sklearn.model_selection import train_test_split\n",
    "from sklearn.ensemble import GradientBoostingRegressor\n",
    "from sklearn.ensemble import GradientBoostingClassifier\n",
    "from sklearn.ensemble import RandomForestClassifier\n",
    "from sklearn.decomposition import NMF, LatentDirichletAllocation, PCA\n",
    "from sklearn.feature_extraction.text import TfidfVectorizer\n",
    "from sklearn.manifold import TSNE\n",
    "from sklearn.cluster import MiniBatchKMeans"
   ]
  },
  {
   "cell_type": "markdown",
   "metadata": {},
   "source": [
    "## 2 - Importation des données"
   ]
  },
  {
   "cell_type": "code",
   "execution_count": 2,
   "metadata": {},
   "outputs": [],
   "source": [
    "#Importation des données\n",
    "df = pd.read_csv('comments_students.csv')"
   ]
  },
  {
   "cell_type": "code",
   "execution_count": 10,
   "metadata": {},
   "outputs": [],
   "source": [
    "\n",
    "#Suppression des colonnes doublons ou qui n'apportent pas d'informations pertinente\n",
    "df = df.drop(['subreddit_id', 'subreddit'], axis = 1)\n"
   ]
  },
  {
   "cell_type": "markdown",
   "metadata": {},
   "source": [
    "# II - Décomposition des colonnes en colonnes atomiques"
   ]
  },
  {
   "cell_type": "markdown",
   "metadata": {},
   "source": [
    "> #### Link_ID"
   ]
  },
  {
   "cell_type": "code",
   "execution_count": 11,
   "metadata": {},
   "outputs": [],
   "source": [
    "#On récupère la partie numérique des liens que l'on converti de la base 36 à la base 10\n",
    "\n",
    "df['link_id'] = [int(df['link_id'][i][3:],36) for i in range(0,len(df['link_id']))]"
   ]
  },
  {
   "cell_type": "code",
   "execution_count": 21,
   "metadata": {},
   "outputs": [],
   "source": [
    "#On identifie les posts commentés plus de n fois\n",
    "\n",
    "n = 1000\n",
    "d = dict(f['link_id'].value_counts())\n",
    "df['link_id'] = [df['link_id'][i]\n",
    "                   if (d[df['link_id'][i]] > n) \n",
    "                       else 'autre' \n",
    "                           for i in range(0,len(df['link_id']))]"
   ]
  },
  {
   "cell_type": "code",
   "execution_count": 42,
   "metadata": {},
   "outputs": [],
   "source": [
    "#On binarise les valeurs de link_id\n",
    "\n",
    "df = pd.concat([df,pd.get_dummies(df['link_id'])], axis = 1)\n"
   ]
  },
  {
   "cell_type": "markdown",
   "metadata": {},
   "source": [
    "> #### Parent_ID"
   ]
  },
  {
   "cell_type": "code",
   "execution_count": 23,
   "metadata": {},
   "outputs": [],
   "source": [
    "#On séparer les parent_id en fonction de s'il répondent au post de base ou à un commentaire\n",
    "\n",
    "df['t1'] = [1 if df['parent_id'][i][:2] =='t1' else 0 for i in range(0,len(df['parent_id']))]"
   ]
  },
  {
   "cell_type": "code",
   "execution_count": 24,
   "metadata": {
    "scrolled": true
   },
   "outputs": [],
   "source": [
    "#On récupère la partie numérique des parent_id que l'on converti de la base 36 à la base 10\n",
    "\n",
    "df['parent_id'] = [int(df['parent_id'][i][3:],36) for i in range(0,len(df['parent_id']))]"
   ]
  },
  {
   "cell_type": "code",
   "execution_count": 32,
   "metadata": {},
   "outputs": [],
   "source": [
    "#On identifie les parent_id référencés plus de n fois\n",
    "\n",
    "n = 1000\n",
    "d = dict(df['parent_id'].value_counts())\n",
    "df['parent_id'] = [df['parent_id'][i]\n",
    "                   if (d[df['parent_id'][i]] > n) \n",
    "                       else 'autre' \n",
    "                           for i in range(0,len(df['parent_id']))]"
   ]
  },
  {
   "cell_type": "code",
   "execution_count": 40,
   "metadata": {},
   "outputs": [],
   "source": [
    "#On binarise les valeurs de parent_id\n",
    "\n",
    "df = pd.concat([df,pd.get_dummies(df['parent_id'])], axis = 1)"
   ]
  },
  {
   "cell_type": "markdown",
   "metadata": {},
   "source": [
    "> #### Author"
   ]
  },
  {
   "cell_type": "code",
   "execution_count": 35,
   "metadata": {},
   "outputs": [],
   "source": [
    "#On identifie les auteurs à l'origine de plus de n posts\n",
    "\n",
    "n = 1000\n",
    "d = dict(df['author'].value_counts())\n",
    "df['author'] = [df['author'][i]\n",
    "                   if (d[df['author'][i]] > n) \n",
    "                       else 'autre' \n",
    "                           for i in range(0,len(df['author']))]"
   ]
  },
  {
   "cell_type": "code",
   "execution_count": 180,
   "metadata": {},
   "outputs": [],
   "source": [
    "#On binarise les valeurs de author\n",
    "\n",
    "df = pd.concat([df,pd.get_dummies(df['author'])], axis = 1)\n"
   ]
  },
  {
   "cell_type": "markdown",
   "metadata": {},
   "source": [
    "> #### Created_UTC"
   ]
  },
  {
   "cell_type": "markdown",
   "metadata": {},
   "source": [
    "A noter que les created_utcs correspondent à une date précise (année, mois, jour, heure, minute, seconde)"
   ]
  },
  {
   "cell_type": "code",
   "execution_count": 44,
   "metadata": {},
   "outputs": [],
   "source": [
    "#Ces fonctions déterminent le moment où a été publié le message\n",
    "\n",
    "#Ici on détermine si le message a été écrit très tôt, dans la matinée, à midi, l'après-midi ou le soir\n",
    "def periodeJour(utc) :\n",
    "    transformation = datetime.utcfromtimestamp(utc)\n",
    "    heure = transformation.hour\n",
    "    if (heure >= 20 and heure <= 24) or (heure >=0 and heure <1) :\n",
    "        return 'soir'\n",
    "    elif (heure >= 1 and heure < 8) :\n",
    "        return 'tot'\n",
    "    elif (heure >= 8 and heure < 12) :\n",
    "        return 'matin'\n",
    "    elif (heure >= 12 and heure < 15) :\n",
    "        return 'midi'\n",
    "    else :\n",
    "        return 'apres-midi'\n",
    "\n",
    "#Ici on détermine si le message a été écrit en semaine ou en week-end\n",
    "#Les jours 2,3,9,10,16,17,23,24,30,31 correspondent aux week-end du mois de mai 2015\n",
    "\n",
    "def periodeMois(utc) :\n",
    "    transformation = datetime.utcfromtimestamp(utc)\n",
    "    jour = transformation.day\n",
    "    if ( ((jour-2)%7 == 0) or ((jour-3)%7 == 0) ):\n",
    "        return('week-end')\n",
    "    else :\n",
    "        return('semaine')\n",
    "\n",
    "#Ici on détermine si le message a été écrit un jour férié ou non\n",
    "#Les jours fériés en Amérique étaient le 10, 25, 26 mai 2015\n",
    "\n",
    "def Ferie(utc) :\n",
    "    transformation = datetime.utcfromtimestamp(utc)\n",
    "    jour = transformation.day\n",
    "    joursFeries = [10,25,26]\n",
    "    if (jour in joursFeries) :\n",
    "        return('férié')\n",
    "    else : \n",
    "        return('pas férié')\n"
   ]
  },
  {
   "cell_type": "code",
   "execution_count": 47,
   "metadata": {},
   "outputs": [],
   "source": [
    "#Ajout des colonnes periodeJour, periodeMois, jourFerie dans le dataframe avec les valeurs correspondantes\n",
    "#pour chaque date UTC\n",
    "\n",
    "df['periodeJour'] = [periodeJour(df['created_utc'][i]) for i in range(0,len(df))]\n",
    "df['periodeMois'] = [periodeMois(df['created_utc'][i]) for i in range(0,len(df))]\n",
    "df['jourFerie'] = [Ferie(df['created_utc'][i]) for i in range(0,len(df))]"
   ]
  },
  {
   "cell_type": "code",
   "execution_count": 95,
   "metadata": {},
   "outputs": [],
   "source": [
    "#On binarise les valeurs de jourFerie, periodeJour et periodeMois\n",
    "\n",
    "df = pd.concat([df,pd.get_dummies(df['jourFerie'])], axis = 1)\n",
    "df = pd.concat([df,pd.get_dummies(df['periodeJour'])], axis = 1)\n",
    "df = pd.concat([df,pd.get_dummies(df['periodeMois'])], axis = 1)\n"
   ]
  },
  {
   "cell_type": "code",
   "execution_count": null,
   "metadata": {},
   "outputs": [],
   "source": [
    "#On binarise les valeurs de periodeJour\n",
    "\n",
    "df = pd.concat([df,pd.get_dummies(df['periodeJour'])], axis = 1)\n"
   ]
  },
  {
   "cell_type": "code",
   "execution_count": 180,
   "metadata": {},
   "outputs": [],
   "source": [
    "#On binarise les valeurs de periodeMois\n",
    "\n",
    "df = pd.concat([df,pd.get_dummies(df['periodeMois'])], axis = 1)\n"
   ]
  },
  {
   "cell_type": "markdown",
   "metadata": {},
   "source": [
    "#### On supprime les colonnes binarisées"
   ]
  },
  {
   "cell_type": "code",
   "execution_count": 43,
   "metadata": {},
   "outputs": [],
   "source": [
    "\n",
    "df = df.drop(['link_id', 'author', 'parent_id','periodeMois','periodeJour','jourFerie'], axis = 1)\n"
   ]
  },
  {
   "cell_type": "markdown",
   "metadata": {},
   "source": [
    "# III - Création de features à l'aide des réseaux de neurones"
   ]
  },
  {
   "cell_type": "markdown",
   "metadata": {},
   "source": [
    "###  1- Premier réseau liant les parent_id à l'id du commentaire parent"
   ]
  },
  {
   "cell_type": "code",
   "execution_count": 226,
   "metadata": {},
   "outputs": [],
   "source": [
    "g= nx.DiGraph()\n"
   ]
  },
  {
   "cell_type": "code",
   "execution_count": 227,
   "metadata": {},
   "outputs": [],
   "source": [
    "g.add_nodes_from(df.id, type=\"link\")\n",
    "g.add_nodes_from(df.name, type=\"comment\")"
   ]
  },
  {
   "cell_type": "code",
   "execution_count": null,
   "metadata": {},
   "outputs": [],
   "source": [
    "g.add_edges_from(df[[\"name\",\"parent_id\"]].values, link_type=\"parent\")"
   ]
  },
  {
   "cell_type": "markdown",
   "metadata": {},
   "source": [
    "### 2 - Création du second réseau liant les auteurs entre eux"
   ]
  },
  {
   "cell_type": "markdown",
   "metadata": {},
   "source": [
    "#### Remplacer les parent_id par l'auteur parent"
   ]
  },
  {
   "cell_type": "code",
   "execution_count": 91,
   "metadata": {
    "collapsed": true
   },
   "outputs": [
    {
     "data": {
      "text/html": [
       "<div>\n",
       "<style scoped>\n",
       "    .dataframe tbody tr th:only-of-type {\n",
       "        vertical-align: middle;\n",
       "    }\n",
       "\n",
       "    .dataframe tbody tr th {\n",
       "        vertical-align: top;\n",
       "    }\n",
       "\n",
       "    .dataframe thead th {\n",
       "        text-align: right;\n",
       "    }\n",
       "</style>\n",
       "<table border=\"1\" class=\"dataframe\">\n",
       "  <thead>\n",
       "    <tr style=\"text-align: right;\">\n",
       "      <th></th>\n",
       "      <th>name</th>\n",
       "      <th>author</th>\n",
       "      <th>parent_id</th>\n",
       "    </tr>\n",
       "  </thead>\n",
       "  <tbody>\n",
       "    <tr>\n",
       "      <th>0</th>\n",
       "      <td>t1_cqug91e</td>\n",
       "      <td>dcblackbelt</td>\n",
       "      <td>t1_cqug91e</td>\n",
       "    </tr>\n",
       "    <tr>\n",
       "      <th>1</th>\n",
       "      <td>t1_cqug921</td>\n",
       "      <td>youthfulvictim</td>\n",
       "      <td>t1_cqug921</td>\n",
       "    </tr>\n",
       "    <tr>\n",
       "      <th>2</th>\n",
       "      <td>t1_cqug923</td>\n",
       "      <td>sonovadoyle</td>\n",
       "      <td>t1_cqug923</td>\n",
       "    </tr>\n",
       "    <tr>\n",
       "      <th>3</th>\n",
       "      <td>t1_cqug93u</td>\n",
       "      <td>bunnylumps</td>\n",
       "      <td>t1_cqug93u</td>\n",
       "    </tr>\n",
       "    <tr>\n",
       "      <th>4</th>\n",
       "      <td>t1_cqug93u</td>\n",
       "      <td>bunnylumps</td>\n",
       "      <td>t1_cqug93u</td>\n",
       "    </tr>\n",
       "    <tr>\n",
       "      <th>5</th>\n",
       "      <td>t1_cqug94d</td>\n",
       "      <td>SpareLiver</td>\n",
       "      <td>t1_cqug94d</td>\n",
       "    </tr>\n",
       "    <tr>\n",
       "      <th>6</th>\n",
       "      <td>t1_cqug94y</td>\n",
       "      <td>robondes</td>\n",
       "      <td>t1_cqug94y</td>\n",
       "    </tr>\n",
       "    <tr>\n",
       "      <th>7</th>\n",
       "      <td>t1_cqug94y</td>\n",
       "      <td>robondes</td>\n",
       "      <td>t1_cqug94y</td>\n",
       "    </tr>\n",
       "    <tr>\n",
       "      <th>8</th>\n",
       "      <td>t1_cqug95f</td>\n",
       "      <td>JustMe80</td>\n",
       "      <td>t1_cqug95f</td>\n",
       "    </tr>\n",
       "    <tr>\n",
       "      <th>9</th>\n",
       "      <td>t1_cqug966</td>\n",
       "      <td>wackawacka2</td>\n",
       "      <td>t1_cqug966</td>\n",
       "    </tr>\n",
       "    <tr>\n",
       "      <th>10</th>\n",
       "      <td>t1_cqug99q</td>\n",
       "      <td>paigenotcasey</td>\n",
       "      <td>t1_cqug99q</td>\n",
       "    </tr>\n",
       "    <tr>\n",
       "      <th>11</th>\n",
       "      <td>t1_cqug99q</td>\n",
       "      <td>paigenotcasey</td>\n",
       "      <td>t1_cqug99q</td>\n",
       "    </tr>\n",
       "    <tr>\n",
       "      <th>12</th>\n",
       "      <td>t1_cqug99q</td>\n",
       "      <td>paigenotcasey</td>\n",
       "      <td>t1_cqug99q</td>\n",
       "    </tr>\n",
       "    <tr>\n",
       "      <th>13</th>\n",
       "      <td>t1_cqug99q</td>\n",
       "      <td>paigenotcasey</td>\n",
       "      <td>t1_cqug99q</td>\n",
       "    </tr>\n",
       "    <tr>\n",
       "      <th>14</th>\n",
       "      <td>t1_cqug99q</td>\n",
       "      <td>paigenotcasey</td>\n",
       "      <td>t1_cqug99q</td>\n",
       "    </tr>\n",
       "    <tr>\n",
       "      <th>15</th>\n",
       "      <td>t1_cqug99q</td>\n",
       "      <td>paigenotcasey</td>\n",
       "      <td>t1_cqug99q</td>\n",
       "    </tr>\n",
       "    <tr>\n",
       "      <th>16</th>\n",
       "      <td>t1_cqug99q</td>\n",
       "      <td>paigenotcasey</td>\n",
       "      <td>t1_cqug99q</td>\n",
       "    </tr>\n",
       "    <tr>\n",
       "      <th>17</th>\n",
       "      <td>t1_cqug99q</td>\n",
       "      <td>paigenotcasey</td>\n",
       "      <td>t1_cqug99q</td>\n",
       "    </tr>\n",
       "    <tr>\n",
       "      <th>18</th>\n",
       "      <td>t1_cqug99q</td>\n",
       "      <td>paigenotcasey</td>\n",
       "      <td>t1_cqug99q</td>\n",
       "    </tr>\n",
       "    <tr>\n",
       "      <th>19</th>\n",
       "      <td>t1_cqug99q</td>\n",
       "      <td>paigenotcasey</td>\n",
       "      <td>t1_cqug99q</td>\n",
       "    </tr>\n",
       "    <tr>\n",
       "      <th>20</th>\n",
       "      <td>t1_cqug99q</td>\n",
       "      <td>paigenotcasey</td>\n",
       "      <td>t1_cqug99q</td>\n",
       "    </tr>\n",
       "    <tr>\n",
       "      <th>21</th>\n",
       "      <td>t1_cqug99q</td>\n",
       "      <td>paigenotcasey</td>\n",
       "      <td>t1_cqug99q</td>\n",
       "    </tr>\n",
       "    <tr>\n",
       "      <th>22</th>\n",
       "      <td>t1_cqug99q</td>\n",
       "      <td>paigenotcasey</td>\n",
       "      <td>t1_cqug99q</td>\n",
       "    </tr>\n",
       "    <tr>\n",
       "      <th>23</th>\n",
       "      <td>t1_cqug9ad</td>\n",
       "      <td>battlefieldsucks</td>\n",
       "      <td>t1_cqug9ad</td>\n",
       "    </tr>\n",
       "    <tr>\n",
       "      <th>24</th>\n",
       "      <td>t1_cqug9af</td>\n",
       "      <td>Racetyme</td>\n",
       "      <td>t1_cqug9af</td>\n",
       "    </tr>\n",
       "    <tr>\n",
       "      <th>25</th>\n",
       "      <td>t1_cqug9af</td>\n",
       "      <td>Racetyme</td>\n",
       "      <td>t1_cqug9af</td>\n",
       "    </tr>\n",
       "    <tr>\n",
       "      <th>26</th>\n",
       "      <td>t1_cqug9cb</td>\n",
       "      <td>W1NGUSD1NGUS</td>\n",
       "      <td>t1_cqug9cb</td>\n",
       "    </tr>\n",
       "    <tr>\n",
       "      <th>27</th>\n",
       "      <td>t1_cqug9fk</td>\n",
       "      <td>jojodancer5</td>\n",
       "      <td>t1_cqug9fk</td>\n",
       "    </tr>\n",
       "    <tr>\n",
       "      <th>28</th>\n",
       "      <td>t1_cqug9g2</td>\n",
       "      <td>vexu</td>\n",
       "      <td>t1_cqug9g2</td>\n",
       "    </tr>\n",
       "    <tr>\n",
       "      <th>29</th>\n",
       "      <td>t1_cqug9g2</td>\n",
       "      <td>vexu</td>\n",
       "      <td>t1_cqug9g2</td>\n",
       "    </tr>\n",
       "    <tr>\n",
       "      <th>...</th>\n",
       "      <td>...</td>\n",
       "      <td>...</td>\n",
       "      <td>...</td>\n",
       "    </tr>\n",
       "    <tr>\n",
       "      <th>2510165</th>\n",
       "      <td>t1_crrb7p4</td>\n",
       "      <td>torianicole731</td>\n",
       "      <td>t1_crrb7p4</td>\n",
       "    </tr>\n",
       "    <tr>\n",
       "      <th>2510166</th>\n",
       "      <td>t1_crrb7vd</td>\n",
       "      <td>That_Bar_Guy</td>\n",
       "      <td>t1_crrb7vd</td>\n",
       "    </tr>\n",
       "    <tr>\n",
       "      <th>2510167</th>\n",
       "      <td>t1_crrb7ym</td>\n",
       "      <td>Cromus</td>\n",
       "      <td>t1_crrb7ym</td>\n",
       "    </tr>\n",
       "    <tr>\n",
       "      <th>2510168</th>\n",
       "      <td>t1_crrb86k</td>\n",
       "      <td>dmun</td>\n",
       "      <td>t1_crrb86k</td>\n",
       "    </tr>\n",
       "    <tr>\n",
       "      <th>2510169</th>\n",
       "      <td>t1_crrb8fx</td>\n",
       "      <td>i_am_not_a_lobster</td>\n",
       "      <td>t1_crrb8fx</td>\n",
       "    </tr>\n",
       "    <tr>\n",
       "      <th>2510170</th>\n",
       "      <td>t1_crrb8hx</td>\n",
       "      <td>makemusicguitar5150</td>\n",
       "      <td>t1_crrb8hx</td>\n",
       "    </tr>\n",
       "    <tr>\n",
       "      <th>2510171</th>\n",
       "      <td>t1_crrb8lo</td>\n",
       "      <td>Mr_Potamus</td>\n",
       "      <td>t1_crrb8lo</td>\n",
       "    </tr>\n",
       "    <tr>\n",
       "      <th>2510172</th>\n",
       "      <td>t1_crrb8pp</td>\n",
       "      <td>caffeinewhore</td>\n",
       "      <td>t1_crrb8pp</td>\n",
       "    </tr>\n",
       "    <tr>\n",
       "      <th>2510173</th>\n",
       "      <td>t1_crrb926</td>\n",
       "      <td>fearistheweakness</td>\n",
       "      <td>t1_crrb926</td>\n",
       "    </tr>\n",
       "    <tr>\n",
       "      <th>2510174</th>\n",
       "      <td>t1_crrb9a0</td>\n",
       "      <td>robxxx</td>\n",
       "      <td>t1_crrb9a0</td>\n",
       "    </tr>\n",
       "    <tr>\n",
       "      <th>2510175</th>\n",
       "      <td>t1_crrb9gh</td>\n",
       "      <td>Geraltofvergen</td>\n",
       "      <td>t1_crrb9gh</td>\n",
       "    </tr>\n",
       "    <tr>\n",
       "      <th>2510176</th>\n",
       "      <td>t1_crrb9j9</td>\n",
       "      <td>[deleted]</td>\n",
       "      <td>t1_crrb9j9</td>\n",
       "    </tr>\n",
       "    <tr>\n",
       "      <th>2510177</th>\n",
       "      <td>t1_crrb9wd</td>\n",
       "      <td>_sl0throp_</td>\n",
       "      <td>t1_crrb9wd</td>\n",
       "    </tr>\n",
       "    <tr>\n",
       "      <th>2510178</th>\n",
       "      <td>t1_crrba46</td>\n",
       "      <td>samanthasecretagent</td>\n",
       "      <td>t1_crrba46</td>\n",
       "    </tr>\n",
       "    <tr>\n",
       "      <th>2510179</th>\n",
       "      <td>t1_crrbaca</td>\n",
       "      <td>Morichalion</td>\n",
       "      <td>t1_crrbaca</td>\n",
       "    </tr>\n",
       "    <tr>\n",
       "      <th>2510180</th>\n",
       "      <td>t1_crrbaca</td>\n",
       "      <td>Morichalion</td>\n",
       "      <td>t1_crrbaca</td>\n",
       "    </tr>\n",
       "    <tr>\n",
       "      <th>2510181</th>\n",
       "      <td>t1_crrbadh</td>\n",
       "      <td>yunker81</td>\n",
       "      <td>t1_crrbadh</td>\n",
       "    </tr>\n",
       "    <tr>\n",
       "      <th>2510182</th>\n",
       "      <td>t1_crrbahc</td>\n",
       "      <td>westywall</td>\n",
       "      <td>t1_crrbahc</td>\n",
       "    </tr>\n",
       "    <tr>\n",
       "      <th>2510183</th>\n",
       "      <td>t1_crrbb05</td>\n",
       "      <td>Masterkelvin273</td>\n",
       "      <td>t1_crrbb05</td>\n",
       "    </tr>\n",
       "    <tr>\n",
       "      <th>2510184</th>\n",
       "      <td>t1_crrbb36</td>\n",
       "      <td>[deleted]</td>\n",
       "      <td>t1_crrbb36</td>\n",
       "    </tr>\n",
       "    <tr>\n",
       "      <th>2510185</th>\n",
       "      <td>t1_crrbbab</td>\n",
       "      <td>Disproves</td>\n",
       "      <td>t1_crrbbab</td>\n",
       "    </tr>\n",
       "    <tr>\n",
       "      <th>2510186</th>\n",
       "      <td>t1_crrbbab</td>\n",
       "      <td>Disproves</td>\n",
       "      <td>t1_crrbbab</td>\n",
       "    </tr>\n",
       "    <tr>\n",
       "      <th>2510187</th>\n",
       "      <td>t1_crrbbar</td>\n",
       "      <td>tryhunter2</td>\n",
       "      <td>t1_crrbbar</td>\n",
       "    </tr>\n",
       "    <tr>\n",
       "      <th>2510188</th>\n",
       "      <td>t1_crrbbew</td>\n",
       "      <td>heffdude11</td>\n",
       "      <td>t1_crrbbew</td>\n",
       "    </tr>\n",
       "    <tr>\n",
       "      <th>2510189</th>\n",
       "      <td>t1_crrbbm3</td>\n",
       "      <td>OMFGmomgetthecamera</td>\n",
       "      <td>t1_crrbbm3</td>\n",
       "    </tr>\n",
       "    <tr>\n",
       "      <th>2510190</th>\n",
       "      <td>t1_crrbbm6</td>\n",
       "      <td>_sl0throp_</td>\n",
       "      <td>t1_crrbbm6</td>\n",
       "    </tr>\n",
       "    <tr>\n",
       "      <th>2510191</th>\n",
       "      <td>t1_crrbby3</td>\n",
       "      <td>Rexistence</td>\n",
       "      <td>t1_crrbby3</td>\n",
       "    </tr>\n",
       "    <tr>\n",
       "      <th>2510192</th>\n",
       "      <td>t1_crrbcfd</td>\n",
       "      <td>Morichalion</td>\n",
       "      <td>t1_crrbcfd</td>\n",
       "    </tr>\n",
       "    <tr>\n",
       "      <th>2510193</th>\n",
       "      <td>t1_crrbdb9</td>\n",
       "      <td>hakoditty</td>\n",
       "      <td>t1_crrbdb9</td>\n",
       "    </tr>\n",
       "    <tr>\n",
       "      <th>2510194</th>\n",
       "      <td>t1_crrbdb9</td>\n",
       "      <td>hakoditty</td>\n",
       "      <td>t1_crrbdb9</td>\n",
       "    </tr>\n",
       "  </tbody>\n",
       "</table>\n",
       "<p>2510195 rows × 3 columns</p>\n",
       "</div>"
      ],
      "text/plain": [
       "               name               author   parent_id\n",
       "0        t1_cqug91e          dcblackbelt  t1_cqug91e\n",
       "1        t1_cqug921       youthfulvictim  t1_cqug921\n",
       "2        t1_cqug923          sonovadoyle  t1_cqug923\n",
       "3        t1_cqug93u           bunnylumps  t1_cqug93u\n",
       "4        t1_cqug93u           bunnylumps  t1_cqug93u\n",
       "5        t1_cqug94d           SpareLiver  t1_cqug94d\n",
       "6        t1_cqug94y             robondes  t1_cqug94y\n",
       "7        t1_cqug94y             robondes  t1_cqug94y\n",
       "8        t1_cqug95f             JustMe80  t1_cqug95f\n",
       "9        t1_cqug966          wackawacka2  t1_cqug966\n",
       "10       t1_cqug99q        paigenotcasey  t1_cqug99q\n",
       "11       t1_cqug99q        paigenotcasey  t1_cqug99q\n",
       "12       t1_cqug99q        paigenotcasey  t1_cqug99q\n",
       "13       t1_cqug99q        paigenotcasey  t1_cqug99q\n",
       "14       t1_cqug99q        paigenotcasey  t1_cqug99q\n",
       "15       t1_cqug99q        paigenotcasey  t1_cqug99q\n",
       "16       t1_cqug99q        paigenotcasey  t1_cqug99q\n",
       "17       t1_cqug99q        paigenotcasey  t1_cqug99q\n",
       "18       t1_cqug99q        paigenotcasey  t1_cqug99q\n",
       "19       t1_cqug99q        paigenotcasey  t1_cqug99q\n",
       "20       t1_cqug99q        paigenotcasey  t1_cqug99q\n",
       "21       t1_cqug99q        paigenotcasey  t1_cqug99q\n",
       "22       t1_cqug99q        paigenotcasey  t1_cqug99q\n",
       "23       t1_cqug9ad     battlefieldsucks  t1_cqug9ad\n",
       "24       t1_cqug9af             Racetyme  t1_cqug9af\n",
       "25       t1_cqug9af             Racetyme  t1_cqug9af\n",
       "26       t1_cqug9cb         W1NGUSD1NGUS  t1_cqug9cb\n",
       "27       t1_cqug9fk          jojodancer5  t1_cqug9fk\n",
       "28       t1_cqug9g2                 vexu  t1_cqug9g2\n",
       "29       t1_cqug9g2                 vexu  t1_cqug9g2\n",
       "...             ...                  ...         ...\n",
       "2510165  t1_crrb7p4       torianicole731  t1_crrb7p4\n",
       "2510166  t1_crrb7vd         That_Bar_Guy  t1_crrb7vd\n",
       "2510167  t1_crrb7ym               Cromus  t1_crrb7ym\n",
       "2510168  t1_crrb86k                 dmun  t1_crrb86k\n",
       "2510169  t1_crrb8fx   i_am_not_a_lobster  t1_crrb8fx\n",
       "2510170  t1_crrb8hx  makemusicguitar5150  t1_crrb8hx\n",
       "2510171  t1_crrb8lo           Mr_Potamus  t1_crrb8lo\n",
       "2510172  t1_crrb8pp        caffeinewhore  t1_crrb8pp\n",
       "2510173  t1_crrb926    fearistheweakness  t1_crrb926\n",
       "2510174  t1_crrb9a0               robxxx  t1_crrb9a0\n",
       "2510175  t1_crrb9gh       Geraltofvergen  t1_crrb9gh\n",
       "2510176  t1_crrb9j9            [deleted]  t1_crrb9j9\n",
       "2510177  t1_crrb9wd           _sl0throp_  t1_crrb9wd\n",
       "2510178  t1_crrba46  samanthasecretagent  t1_crrba46\n",
       "2510179  t1_crrbaca          Morichalion  t1_crrbaca\n",
       "2510180  t1_crrbaca          Morichalion  t1_crrbaca\n",
       "2510181  t1_crrbadh             yunker81  t1_crrbadh\n",
       "2510182  t1_crrbahc            westywall  t1_crrbahc\n",
       "2510183  t1_crrbb05      Masterkelvin273  t1_crrbb05\n",
       "2510184  t1_crrbb36            [deleted]  t1_crrbb36\n",
       "2510185  t1_crrbbab            Disproves  t1_crrbbab\n",
       "2510186  t1_crrbbab            Disproves  t1_crrbbab\n",
       "2510187  t1_crrbbar           tryhunter2  t1_crrbbar\n",
       "2510188  t1_crrbbew           heffdude11  t1_crrbbew\n",
       "2510189  t1_crrbbm3  OMFGmomgetthecamera  t1_crrbbm3\n",
       "2510190  t1_crrbbm6           _sl0throp_  t1_crrbbm6\n",
       "2510191  t1_crrbby3           Rexistence  t1_crrbby3\n",
       "2510192  t1_crrbcfd          Morichalion  t1_crrbcfd\n",
       "2510193  t1_crrbdb9            hakoditty  t1_crrbdb9\n",
       "2510194  t1_crrbdb9            hakoditty  t1_crrbdb9\n",
       "\n",
       "[2510195 rows x 3 columns]"
      ]
     },
     "execution_count": 91,
     "metadata": {},
     "output_type": "execute_result"
    }
   ],
   "source": [
    "#Ne pas lancer après code pour séparer les auteurs + de 1000 commentaires et autre\n",
    "\n",
    "#On fait une jointure entre les parent_id et les name\n",
    "df2 = df[['name','author']]\n",
    "df3 = df['parent_id']\n",
    "merge = pd.merge(df2, df3, left_on = ['name'], right_on = ['parent_id'])\n",
    "merge"
   ]
  },
  {
   "cell_type": "code",
   "execution_count": 103,
   "metadata": {},
   "outputs": [
    {
     "name": "stderr",
     "output_type": "stream",
     "text": [
      "100%|█████████████████████████████████████████████████████████████████████| 2510195/2510195 [03:20<00:00, 12499.09it/s]\n"
     ]
    }
   ],
   "source": [
    "#pour regarde le nom des auteurs associés aux parent_id\n",
    "dictionnaireId = dict()\n",
    "for i in tqdm(range(0,len(merge))) :\n",
    "    \n",
    "    dictionnaireId[merge['parent_id'][i]] = merge['author'][i] "
   ]
  },
  {
   "cell_type": "code",
   "execution_count": 104,
   "metadata": {},
   "outputs": [],
   "source": [
    "#On récupère les id disctincs des auteurs\n",
    "parents = [df['name'][i] for i in range(0,len(df))]\n",
    "parents = set(parents)"
   ]
  },
  {
   "cell_type": "code",
   "execution_count": 110,
   "metadata": {},
   "outputs": [
    {
     "name": "stderr",
     "output_type": "stream",
     "text": [
      "100%|█████████████████████████████████████████████████████████████████████| 4234970/4234970 [03:11<00:00, 22089.35it/s]\n"
     ]
    }
   ],
   "source": [
    "#on parcourt les parent_id et on regarde ceux qui font référence à un auteur qu'on ne connait pas\n",
    "pas = []\n",
    "\n",
    "for i in tqdm(range(0,len(df))) :\n",
    "    p= df['parent_id'][i]\n",
    "    if p not in parents :\n",
    "        pas.append(p)"
   ]
  },
  {
   "cell_type": "code",
   "execution_count": 111,
   "metadata": {},
   "outputs": [
    {
     "name": "stderr",
     "output_type": "stream",
     "text": [
      "100%|███████████████████████████████████████████████████████████████████| 1724775/1724775 [00:01<00:00, 1291381.61it/s]\n"
     ]
    }
   ],
   "source": [
    "#Dans notre dictionnaire, les parent_id ne referençant personne gardent leur nom de lien\n",
    "for i in tqdm(range(0,len(pas))):\n",
    "    dictionnaireId[pas[i]] = pas[i]"
   ]
  },
  {
   "cell_type": "code",
   "execution_count": 112,
   "metadata": {},
   "outputs": [
    {
     "name": "stderr",
     "output_type": "stream",
     "text": [
      "100%|█████████████████████████████████████████████████████████████████████| 4234970/4234970 [03:16<00:00, 21524.66it/s]\n"
     ]
    }
   ],
   "source": [
    "par = []\n",
    "#on parcourt dataframe et chacun recup soit son pseudo_parent ou lui même\n",
    "for i in tqdm(range(0,len(df))):\n",
    "    pare = df['parent_id'][i]\n",
    "    par.append(dictionnaireId[pare])\n",
    "    "
   ]
  },
  {
   "cell_type": "code",
   "execution_count": 113,
   "metadata": {},
   "outputs": [],
   "source": [
    "#On insère la nouvelle colonne dans le dataframe\n",
    "df['pseudo_parent'] = par"
   ]
  },
  {
   "cell_type": "code",
   "execution_count": 128,
   "metadata": {},
   "outputs": [
    {
     "data": {
      "text/html": [
       "<div>\n",
       "<style scoped>\n",
       "    .dataframe tbody tr th:only-of-type {\n",
       "        vertical-align: middle;\n",
       "    }\n",
       "\n",
       "    .dataframe tbody tr th {\n",
       "        vertical-align: top;\n",
       "    }\n",
       "\n",
       "    .dataframe thead th {\n",
       "        text-align: right;\n",
       "    }\n",
       "</style>\n",
       "<table border=\"1\" class=\"dataframe\">\n",
       "  <thead>\n",
       "    <tr style=\"text-align: right;\">\n",
       "      <th></th>\n",
       "      <th>created_utc</th>\n",
       "      <th>ups</th>\n",
       "      <th>subreddit_id</th>\n",
       "      <th>link_id</th>\n",
       "      <th>name</th>\n",
       "      <th>subreddit</th>\n",
       "      <th>id</th>\n",
       "      <th>author</th>\n",
       "      <th>body</th>\n",
       "      <th>parent_id</th>\n",
       "      <th>pseudo_parent</th>\n",
       "    </tr>\n",
       "  </thead>\n",
       "  <tbody>\n",
       "    <tr>\n",
       "      <th>0</th>\n",
       "      <td>1430438400</td>\n",
       "      <td>3.0</td>\n",
       "      <td>t5_2qh1i</td>\n",
       "      <td>t3_34f9rh</td>\n",
       "      <td>t1_cqug90j</td>\n",
       "      <td>AskReddit</td>\n",
       "      <td>cqug90j</td>\n",
       "      <td>jesse9o3</td>\n",
       "      <td>No one has a European accent either  because i...</td>\n",
       "      <td>t1_cqug2sr</td>\n",
       "      <td>t1_cqug2sr</td>\n",
       "    </tr>\n",
       "    <tr>\n",
       "      <th>1</th>\n",
       "      <td>1430438400</td>\n",
       "      <td>3.0</td>\n",
       "      <td>t5_2qh1i</td>\n",
       "      <td>t3_34fvry</td>\n",
       "      <td>t1_cqug90k</td>\n",
       "      <td>AskReddit</td>\n",
       "      <td>cqug90k</td>\n",
       "      <td>beltfedshooter</td>\n",
       "      <td>That the kid ..reminds me of Kevin.   so sad :-(</td>\n",
       "      <td>t3_34fvry</td>\n",
       "      <td>t3_34fvry</td>\n",
       "    </tr>\n",
       "    <tr>\n",
       "      <th>2</th>\n",
       "      <td>1430438400</td>\n",
       "      <td>5.0</td>\n",
       "      <td>t5_2qh1i</td>\n",
       "      <td>t3_34ffo5</td>\n",
       "      <td>t1_cqug90z</td>\n",
       "      <td>AskReddit</td>\n",
       "      <td>cqug90z</td>\n",
       "      <td>InterimFatGuy</td>\n",
       "      <td>NSFL</td>\n",
       "      <td>t1_cqu80zb</td>\n",
       "      <td>t1_cqu80zb</td>\n",
       "    </tr>\n",
       "    <tr>\n",
       "      <th>3</th>\n",
       "      <td>1430438401</td>\n",
       "      <td>1.0</td>\n",
       "      <td>t5_2qh1i</td>\n",
       "      <td>t3_34aqsn</td>\n",
       "      <td>t1_cqug91c</td>\n",
       "      <td>AskReddit</td>\n",
       "      <td>cqug91c</td>\n",
       "      <td>JuanTutrego</td>\n",
       "      <td>I'm a guy and I had no idea this was a thing g...</td>\n",
       "      <td>t1_cqtdj4m</td>\n",
       "      <td>t1_cqtdj4m</td>\n",
       "    </tr>\n",
       "    <tr>\n",
       "      <th>4</th>\n",
       "      <td>1430438401</td>\n",
       "      <td>101.0</td>\n",
       "      <td>t5_2qh1i</td>\n",
       "      <td>t3_34f9rh</td>\n",
       "      <td>t1_cqug91e</td>\n",
       "      <td>AskReddit</td>\n",
       "      <td>cqug91e</td>\n",
       "      <td>dcblackbelt</td>\n",
       "      <td>Mid twenties male rocking skinny jeans/pants, ...</td>\n",
       "      <td>t1_cquc4rc</td>\n",
       "      <td>t1_cquc4rc</td>\n",
       "    </tr>\n",
       "  </tbody>\n",
       "</table>\n",
       "</div>"
      ],
      "text/plain": [
       "   created_utc    ups subreddit_id    link_id        name  subreddit       id  \\\n",
       "0   1430438400    3.0     t5_2qh1i  t3_34f9rh  t1_cqug90j  AskReddit  cqug90j   \n",
       "1   1430438400    3.0     t5_2qh1i  t3_34fvry  t1_cqug90k  AskReddit  cqug90k   \n",
       "2   1430438400    5.0     t5_2qh1i  t3_34ffo5  t1_cqug90z  AskReddit  cqug90z   \n",
       "3   1430438401    1.0     t5_2qh1i  t3_34aqsn  t1_cqug91c  AskReddit  cqug91c   \n",
       "4   1430438401  101.0     t5_2qh1i  t3_34f9rh  t1_cqug91e  AskReddit  cqug91e   \n",
       "\n",
       "           author                                               body  \\\n",
       "0        jesse9o3  No one has a European accent either  because i...   \n",
       "1  beltfedshooter   That the kid ..reminds me of Kevin.   so sad :-(   \n",
       "2   InterimFatGuy                                               NSFL   \n",
       "3     JuanTutrego  I'm a guy and I had no idea this was a thing g...   \n",
       "4     dcblackbelt  Mid twenties male rocking skinny jeans/pants, ...   \n",
       "\n",
       "    parent_id pseudo_parent  \n",
       "0  t1_cqug2sr    t1_cqug2sr  \n",
       "1   t3_34fvry     t3_34fvry  \n",
       "2  t1_cqu80zb    t1_cqu80zb  \n",
       "3  t1_cqtdj4m    t1_cqtdj4m  \n",
       "4  t1_cquc4rc    t1_cquc4rc  "
      ]
     },
     "execution_count": 128,
     "metadata": {},
     "output_type": "execute_result"
    }
   ],
   "source": [
    "#On retrouve dans pseudo parent le nom de l'auteur à qui on répond, sinon le parent_id reste inchangé\n",
    "df.head()\n"
   ]
  },
  {
   "cell_type": "code",
   "execution_count": 183,
   "metadata": {},
   "outputs": [
    {
     "name": "stderr",
     "output_type": "stream",
     "text": [
      "100%|█████████████████████████████████████████████████████████████████████| 4234970/4234970 [06:19<00:00, 11168.44it/s]\n"
     ]
    }
   ],
   "source": [
    "#Remplacer les parent_id par le nom de l'auteur et mettre dans \"non renseigné\" si l'auteur n'est pas renseigné\n",
    "parent_idbis = []\n",
    "for i in tqdm(range(0,len(df))):\n",
    "    parent = df['pseudo_parent'][i]\n",
    "    if (parent[:2] =='t1') or (parent[:2] =='t3'):\n",
    "        parent_idbis.append('non renseigne')\n",
    "    else :\n",
    "        parent_idbis.append(parent)"
   ]
  },
  {
   "cell_type": "code",
   "execution_count": 184,
   "metadata": {},
   "outputs": [],
   "source": [
    "dfe['parent_idbis'] = parent_idbis"
   ]
  },
  {
   "cell_type": "markdown",
   "metadata": {},
   "source": [
    "Second graphe liant les auteurs entre eux"
   ]
  },
  {
   "cell_type": "code",
   "execution_count": 185,
   "metadata": {},
   "outputs": [],
   "source": [
    "g= nx.DiGraph()"
   ]
  },
  {
   "cell_type": "code",
   "execution_count": 186,
   "metadata": {},
   "outputs": [],
   "source": [
    "g.add_nodes_from(dfe.author, type=\"link\")\n",
    "g.add_nodes_from(dfe.name, type=\"comment\")"
   ]
  },
  {
   "cell_type": "code",
   "execution_count": 187,
   "metadata": {},
   "outputs": [],
   "source": [
    "g.add_edges_from(dfe[[\"parent_idbis\",\"author\"]].values, link_type=\"parent\")"
   ]
  },
  {
   "cell_type": "markdown",
   "metadata": {},
   "source": [
    "## 1 - Centralité"
   ]
  },
  {
   "cell_type": "code",
   "execution_count": 50,
   "metadata": {},
   "outputs": [],
   "source": [
    "katz = nx.katz_centrality(g)\n",
    "katz = [katz[dfe['parent_id'][i]] for i in range(0,len(dfe))]\n",
    "df['katz'] = katz"
   ]
  },
  {
   "cell_type": "code",
   "execution_count": 294,
   "metadata": {},
   "outputs": [],
   "source": [
    "eigen = nx.eigenvector_centrality(g, max_iter=1000)\n",
    "eigen = [eigen[dfe['parent_id'][i]] for i in range(0,len(dfe))]\n",
    "df['eigen'] = eigen"
   ]
  },
  {
   "cell_type": "code",
   "execution_count": null,
   "metadata": {},
   "outputs": [],
   "source": [
    "closeness = nx.closeness_centrality(g)\n",
    "close = [closeness[dfe['parent_id'][i]] for i in range(0,len(dfe))]\n",
    "df['closness'] = close"
   ]
  },
  {
   "cell_type": "code",
   "execution_count": null,
   "metadata": {},
   "outputs": [],
   "source": [
    "degree = nx.degree_centrality(g)\n",
    "degree = [degree[dfe['parent_id'][i]] for i in range(0,len(dfe))]\n",
    "df['degree'] = degree"
   ]
  },
  {
   "cell_type": "markdown",
   "metadata": {},
   "source": [
    "## 2 - Pretige"
   ]
  },
  {
   "cell_type": "markdown",
   "metadata": {},
   "source": [
    "### PageRank"
   ]
  },
  {
   "cell_type": "code",
   "execution_count": 348,
   "metadata": {},
   "outputs": [],
   "source": [
    "pagerank = nx.pagerank(g)\n",
    "p = [pagerank[df['name'][i]] for i in range(0,len(df))]\n",
    "df['pagerank'] = p"
   ]
  },
  {
   "cell_type": "markdown",
   "metadata": {},
   "source": [
    "### Hits"
   ]
  },
  {
   "cell_type": "code",
   "execution_count": 7,
   "metadata": {},
   "outputs": [],
   "source": [
    "H = nx.hits(g, max_iter=100, tol=1e-08, nstart=None, normalized=True)"
   ]
  },
  {
   "cell_type": "code",
   "execution_count": 16,
   "metadata": {},
   "outputs": [],
   "source": [
    "hub = [H[0][df['name'][i]] for i in range(0,len(df))]\n",
    "authorities = [H[1][df['name'][i]] for i in range(0,len(df))]"
   ]
  },
  {
   "cell_type": "code",
   "execution_count": 20,
   "metadata": {},
   "outputs": [],
   "source": [
    "df['hub'] = hub\n",
    "df['authorities'] = authorities"
   ]
  },
  {
   "cell_type": "markdown",
   "metadata": {},
   "source": [
    "# IV - Création de features à partir d'analyses textuelles"
   ]
  },
  {
   "cell_type": "markdown",
   "metadata": {},
   "source": [
    "## 1 - Nettoyage"
   ]
  },
  {
   "cell_type": "code",
   "execution_count": 173,
   "metadata": {},
   "outputs": [],
   "source": [
    "def find_optimal_clusters(data, max_k):\n",
    "    iters = [2,3,6,7,10,11,16,32]\n",
    "    \n",
    "    sse = []\n",
    "    for k in iters:\n",
    "        sse.append(MiniBatchKMeans(n_clusters=k, init_size=1024, batch_size=2048, random_state=20).fit(data).inertia_)\n",
    "        print('Fit {} clusters'.format(k))\n",
    "        \n",
    "    f, ax = plt.subplots(1, 1)\n",
    "    ax.plot(iters, sse, marker='o')\n",
    "    ax.set_xlabel('Cluster Centers')\n",
    "    ax.set_xticks(iters)\n",
    "    ax.set_xticklabels(iters)\n",
    "    ax.set_ylabel('SSE')\n",
    "    ax.set_title('SSE by Cluster Center Plot')"
   ]
  },
  {
   "cell_type": "code",
   "execution_count": 145,
   "metadata": {},
   "outputs": [],
   "source": [
    "def nettoyage(texte) :\n",
    "    texte = texte.lower() #change le texte en minuscule\n",
    "\n",
    "    texte = \"\".join([x if x.isalpha() else \" \" for x in texte]) #enlève les caractere speciaux + poncutations\n",
    "\n",
    "    texte = \" \".join(texte.split())\n",
    "    return (texte)"
   ]
  },
  {
   "cell_type": "code",
   "execution_count": 146,
   "metadata": {},
   "outputs": [
    {
     "name": "stderr",
     "output_type": "stream",
     "text": [
      "100%|█████████████████████████████████████████████████████████████████████| 4234970/4234970 [05:46<00:00, 12213.79it/s]\n"
     ]
    }
   ],
   "source": [
    "#On applique la fonction de nettoyage à nos commentaires\n",
    "txt = []\n",
    "for i in tqdm(range(0,len(df))):\n",
    "    txt.append(nettoyage(str(df['body'][i])))"
   ]
  },
  {
   "cell_type": "code",
   "execution_count": 147,
   "metadata": {},
   "outputs": [],
   "source": [
    "df['bodynettoye'] = txt"
   ]
  },
  {
   "cell_type": "code",
   "execution_count": 149,
   "metadata": {},
   "outputs": [
    {
     "name": "stderr",
     "output_type": "stream",
     "text": [
      "100%|██████████████████████████████████████████████████████████████████████| 4234970/4234970 [09:47<00:00, 7207.23it/s]\n"
     ]
    }
   ],
   "source": [
    "#On enlève les mots vides des body\n",
    "\n",
    "stp = stopwords.words('english')\n",
    "motcles = []\n",
    "for i in tqdm(range(0,len(df))):\n",
    "    motcles.append([w for w in list(str(df['bodynettoye'][i]).split(' ')) if (not w in stp and w != ' ' and w !='')])"
   ]
  },
  {
   "cell_type": "code",
   "execution_count": 151,
   "metadata": {},
   "outputs": [
    {
     "name": "stderr",
     "output_type": "stream",
     "text": [
      "100%|█████████████████████████████████████████████████████████████████████| 4234970/4234970 [00:49<00:00, 84985.28it/s]\n"
     ]
    }
   ],
   "source": [
    "#On reforme les phrases\n",
    "\n",
    "motcle = []\n",
    "for e in tqdm(range(0,len(motcles))):\n",
    "    element = motcles[e]\n",
    "    phrase = \"\"\n",
    "    for i in element :\n",
    "        phrase+= \" \"+str(i)\n",
    "    motcle.append(phrase[1:].lower())"
   ]
  },
  {
   "cell_type": "code",
   "execution_count": 153,
   "metadata": {},
   "outputs": [],
   "source": [
    "#On crée une colonne avec seulement les \"utiles\" du body\n",
    "df['mot cle'] = motcle"
   ]
  },
  {
   "cell_type": "markdown",
   "metadata": {},
   "source": [
    "Nettoyage Lancaster"
   ]
  },
  {
   "cell_type": "code",
   "execution_count": 163,
   "metadata": {},
   "outputs": [
    {
     "name": "stderr",
     "output_type": "stream",
     "text": [
      "100%|██████████████████████████████████████████████████████████████████████| 4234970/4234970 [19:08<00:00, 3688.02it/s]\n"
     ]
    }
   ],
   "source": [
    "lancaster=LancasterStemmer()\n",
    "\n",
    "mocl = []\n",
    "for i in tqdm(range(0,len(motcle))) :\n",
    "    mot = \"\"\n",
    "    for elem in motcle[i].split(' '):\n",
    "        mot+= \" \"+lancaster.stem(elem)\n",
    "    mocl.append(mot)"
   ]
  },
  {
   "cell_type": "code",
   "execution_count": 165,
   "metadata": {},
   "outputs": [],
   "source": [
    "df['lancaster_stem'] = mocl"
   ]
  },
  {
   "cell_type": "markdown",
   "metadata": {},
   "source": [
    "TFIDF"
   ]
  },
  {
   "cell_type": "code",
   "execution_count": 167,
   "metadata": {},
   "outputs": [],
   "source": [
    "vectorizer = TfidfVectorizer()\n",
    "tfidf = vectorizer.fit_transform(df['lancaster_stem'])"
   ]
  },
  {
   "cell_type": "code",
   "execution_count": 172,
   "metadata": {},
   "outputs": [
    {
     "name": "stdout",
     "output_type": "stream",
     "text": [
      "Fit 2 clusters\n",
      "Fit 3 clusters\n",
      "Fit 6 clusters\n",
      "Fit 7 clusters\n",
      "Fit 10 clusters\n",
      "Fit 11 clusters\n",
      "Fit 16 clusters\n",
      "Fit 32 clusters\n"
     ]
    },
    {
     "data": {
      "image/png": "[encoded data removed]",
      "text/plain": [
       "<Figure size 432x288 with 1 Axes>"
      ]
     },
     "metadata": {
      "needs_background": "light"
     },
     "output_type": "display_data"
    }
   ],
   "source": [
    "find_optimal_clusters(tfidf, 32)"
   ]
  },
  {
   "cell_type": "code",
   "execution_count": 184,
   "metadata": {},
   "outputs": [],
   "source": [
    "clusters = MiniBatchKMeans(n_clusters=8, init_size = 1024, batch_size=2048,random_state=20).fit_predict(tfidf)"
   ]
  },
  {
   "cell_type": "code",
   "execution_count": 185,
   "metadata": {},
   "outputs": [],
   "source": [
    "df['cluster8'] = clusters"
   ]
  },
  {
   "cell_type": "code",
   "execution_count": 186,
   "metadata": {},
   "outputs": [
    {
     "data": {
      "text/plain": [
       "cluster8\n",
       "0    12.298974\n",
       "1     3.946645\n",
       "2    19.943966\n",
       "3    16.412130\n",
       "4     1.308163\n",
       "5    15.674961\n",
       "6    13.348829\n",
       "7    12.445112\n",
       "Name: ups, dtype: float64"
      ]
     },
     "execution_count": 186,
     "metadata": {},
     "output_type": "execute_result"
    }
   ],
   "source": [
    "df.groupby('cluster8')['ups'].mean()"
   ]
  },
  {
   "cell_type": "code",
   "execution_count": 187,
   "metadata": {
    "scrolled": true
   },
   "outputs": [
    {
     "data": {
      "text/plain": [
       "7    2350211\n",
       "3     641633\n",
       "0     289295\n",
       "1     284413\n",
       "6     278277\n",
       "5     272670\n",
       "2      78110\n",
       "4      40361\n",
       "Name: cluster8, dtype: int64"
      ]
     },
     "execution_count": 187,
     "metadata": {},
     "output_type": "execute_result"
    }
   ],
   "source": [
    "df['cluster8'].value_counts()"
   ]
  },
  {
   "cell_type": "code",
   "execution_count": 190,
   "metadata": {},
   "outputs": [],
   "source": [
    "df = pd.concat([df,pd.get_dummies(df['cluster8'])], axis = 1)"
   ]
  },
  {
   "cell_type": "markdown",
   "metadata": {},
   "source": [
    "NMF"
   ]
  },
  {
   "cell_type": "code",
   "execution_count": 169,
   "metadata": {},
   "outputs": [],
   "source": [
    "# ?NMF"
   ]
  },
  {
   "cell_type": "code",
   "execution_count": 192,
   "metadata": {},
   "outputs": [],
   "source": [
    "nmf = NMF(n_components=15, random_state=1,\n",
    "          alpha=.1, l1_ratio=.5,max_iter = 10).fit(tfidf)"
   ]
  },
  {
   "cell_type": "code",
   "execution_count": 193,
   "metadata": {},
   "outputs": [],
   "source": [
    "nmf_features = nmf.transform(tfidf)"
   ]
  },
  {
   "cell_type": "code",
   "execution_count": 195,
   "metadata": {},
   "outputs": [
    {
     "name": "stdout",
     "output_type": "stream",
     "text": [
      "Fit 2 clusters\n",
      "Fit 3 clusters\n",
      "Fit 6 clusters\n",
      "Fit 7 clusters\n",
      "Fit 10 clusters\n",
      "Fit 11 clusters\n",
      "Fit 16 clusters\n",
      "Fit 32 clusters\n"
     ]
    },
    {
     "data": {
      "image/png": "[encoded data removed]",
      "text/plain": [
       "<Figure size 432x288 with 1 Axes>"
      ]
     },
     "metadata": {
      "needs_background": "light"
     },
     "output_type": "display_data"
    }
   ],
   "source": [
    "find_optimal_clusters(nmf_features, 20)"
   ]
  },
  {
   "cell_type": "code",
   "execution_count": 196,
   "metadata": {},
   "outputs": [],
   "source": [
    "clusters = MiniBatchKMeans(n_clusters=16, init_size = 1024, batch_size=2048,random_state=20).fit_predict(nmf_features)\n"
   ]
  },
  {
   "cell_type": "code",
   "execution_count": 198,
   "metadata": {},
   "outputs": [],
   "source": [
    "df['nmf'] = clusters"
   ]
  },
  {
   "cell_type": "code",
   "execution_count": 199,
   "metadata": {},
   "outputs": [
    {
     "data": {
      "text/plain": [
       "nmf\n",
       "0     13.155064\n",
       "1      3.946596\n",
       "2      1.462438\n",
       "3      9.071591\n",
       "4     13.208987\n",
       "5     17.655637\n",
       "6     15.136016\n",
       "7     15.158667\n",
       "8     13.910972\n",
       "9      1.817887\n",
       "10    14.785983\n",
       "11    14.673029\n",
       "12    11.126095\n",
       "13     5.188356\n",
       "14    11.564368\n",
       "15    18.505596\n",
       "Name: ups, dtype: float64"
      ]
     },
     "execution_count": 199,
     "metadata": {},
     "output_type": "execute_result"
    }
   ],
   "source": [
    "df.groupby('nmf')['ups'].mean()"
   ]
  },
  {
   "cell_type": "code",
   "execution_count": 200,
   "metadata": {},
   "outputs": [
    {
     "data": {
      "text/plain": [
       "0     2743088\n",
       "1      284409\n",
       "7      207494\n",
       "10     195221\n",
       "8      182805\n",
       "4      166416\n",
       "11     143947\n",
       "15      91271\n",
       "12      84468\n",
       "5       36064\n",
       "14      35739\n",
       "2       34177\n",
       "6        8603\n",
       "3        7525\n",
       "13       6937\n",
       "9        6806\n",
       "Name: nmf, dtype: int64"
      ]
     },
     "execution_count": 200,
     "metadata": {},
     "output_type": "execute_result"
    }
   ],
   "source": [
    "df['nmf'].value_counts()"
   ]
  },
  {
   "cell_type": "code",
   "execution_count": 202,
   "metadata": {},
   "outputs": [],
   "source": [
    "#la part d'implication de chaque mot dans les différent topic\n",
    "components_df = pd.DataFrame(nmf.components_, columns=vectorizer.get_feature_names())"
   ]
  },
  {
   "cell_type": "code",
   "execution_count": 204,
   "metadata": {},
   "outputs": [],
   "source": [
    "#On affiche les mots clés des différents topics, on décèlle des thèmes comme\n",
    "\n",
    "for topic in range(components_df.shape[0]):\n",
    "    tmp = components_df.iloc[topic]\n",
    "    print(f'For topic {topic+1} the words with the highest value are:')\n",
    "    print(tmp.nlargest(10))\n",
    "    print('\\n')"
   ]
  },
  {
   "cell_type": "code",
   "execution_count": 214,
   "metadata": {},
   "outputs": [],
   "source": [
    "lesTopics = pd.DataFrame(nmf_features, columns = ['topic 1','topic 2','topic 3','topic 4','topic 5','topic 6','topic 7',\n",
    "                                      'topic 8','topic 9','topic 10','topic 11','topic 12','topic 13','topic 14',\n",
    "                                      'topic 15'])"
   ]
  },
  {
   "cell_type": "code",
   "execution_count": 215,
   "metadata": {},
   "outputs": [],
   "source": [
    "df = pd.concat([df,lesTopics], axis = 1)"
   ]
  },
  {
   "cell_type": "markdown",
   "metadata": {},
   "source": [
    "On estime le sujet de chaque body"
   ]
  },
  {
   "cell_type": "code",
   "execution_count": 219,
   "metadata": {},
   "outputs": [
    {
     "name": "stderr",
     "output_type": "stream",
     "text": [
      "100%|██████████████████████████████████████████████████████████████████████| 4234970/4234970 [14:07<00:00, 4998.38it/s]\n"
     ]
    }
   ],
   "source": [
    "topicMax = []\n",
    "\n",
    "for i in tqdm(range(0,len(pd.DataFrame(nmf_features)))):\n",
    "    topicMax.append(df_nmf.loc[i].idxmax()+1)"
   ]
  },
  {
   "cell_type": "code",
   "execution_count": 220,
   "metadata": {},
   "outputs": [],
   "source": [
    "df['sujetTraite'] = topicMax"
   ]
  },
  {
   "cell_type": "markdown",
   "metadata": {},
   "source": [
    "Analyse de sentiments"
   ]
  },
  {
   "cell_type": "code",
   "execution_count": 158,
   "metadata": {},
   "outputs": [
    {
     "name": "stderr",
     "output_type": "stream",
     "text": [
      "100%|██████████████████████████████████████████████████████████████████████| 4234970/4234970 [25:27<00:00, 2771.78it/s]\n"
     ]
    }
   ],
   "source": [
    "sent = SentimentIntensityAnalyzer()\n",
    "polarity = sent.polarity_scores\n",
    "liste = []\n",
    "body = df['bodynettoye']\n",
    "for i in tqdm(range(0,len(body))):\n",
    "    txt = str(body[i])\n",
    "    liste.append(polarity(txt))\n",
    "    "
   ]
  },
  {
   "cell_type": "code",
   "execution_count": 159,
   "metadata": {},
   "outputs": [
    {
     "name": "stderr",
     "output_type": "stream",
     "text": [
      "100%|████████████████████████████████████████████████████████████████████| 4234970/4234970 [00:04<00:00, 904105.67it/s]\n"
     ]
    }
   ],
   "source": [
    "neg = []\n",
    "neu = []\n",
    "pos = []\n",
    "compound = []\n",
    "for i in tqdm(range(0,len(liste))) :\n",
    "    neg.append(liste[i]['neg'])\n",
    "    pos.append(liste[i]['pos'])\n",
    "    neu.append(liste[i]['neu'])\n",
    "    compound.append(liste[i]['compound'])"
   ]
  },
  {
   "cell_type": "code",
   "execution_count": 160,
   "metadata": {},
   "outputs": [],
   "source": [
    "df['negative'] = neg\n",
    "df['positive'] = pos\n",
    "df['neutral'] = neu\n",
    "df['compound'] = compound"
   ]
  },
  {
   "cell_type": "markdown",
   "metadata": {},
   "source": [
    "# V - Tests et prédiction du modèle"
   ]
  },
  {
   "cell_type": "code",
   "execution_count": 12,
   "metadata": {},
   "outputs": [],
   "source": [
    "#On sépare la partie train et test de nos données\n",
    "train = df[df['ups'].isna()==False]\n",
    "test = df[df['ups'].isna()==True]"
   ]
  },
  {
   "cell_type": "code",
   "execution_count": null,
   "metadata": {},
   "outputs": [],
   "source": [
    "Ytest = test['ups'].values\n",
    "Xtest = test.drop(['ups'],axis=1)\n",
    "\n",
    "Ytrain = train['ups'].values\n",
    "Xtrain = train.drop(['ups'],axis=1)"
   ]
  },
  {
   "cell_type": "markdown",
   "metadata": {},
   "source": [
    "## 1 - Test du modèle sur l'échantillon train"
   ]
  },
  {
   "cell_type": "code",
   "execution_count": null,
   "metadata": {},
   "outputs": [],
   "source": [
    "#On effectue des sous test d'essai sur l'échantillon train\n",
    "Xtrainbis, Xtestbis, Ytrainbis, Ytestbis = train_test_split(Xtrain, Ytrain, random_state=0,train_size = 2574810,test_size = 643702)"
   ]
  },
  {
   "cell_type": "code",
   "execution_count": null,
   "metadata": {},
   "outputs": [],
   "source": [
    "#On récupère l'ensemble de nos parent_id, on enlève les doublons et les id référençant un\n",
    "#auteur que l'on a pas\n",
    "parents_id = list(set(df['parent_id']))\n",
    "cequona = list(set(dictionnaireId.keys()))\n",
    "difference = set(parents_id)-set(cequona)\n",
    "for element in difference :\n",
    "    dictionnaireId[element] = element"
   ]
  },
  {
   "cell_type": "code",
   "execution_count": null,
   "metadata": {},
   "outputs": [],
   "source": [
    "#On s'entraine sur notre sous échantillon train et on teste la prédiction sur le\n",
    "#sous échantillon test\n",
    "reg = GradientBoostingRegressor(loss = 'lad',criterion = 'friedman_mse',max_features = 'sqrt',subsample = 0.8,alpha = 0.99,\n",
    "                                n_estimators = 100)\n",
    "reg.fit(pd.DataFrame(Xtrainbis[['degree','katz','eigen','closeness']]), Ytrainbis)\n",
    "\n",
    "prediction = reg.predict(Xtestbis[['degree','katz','eigen','closeness']])"
   ]
  },
  {
   "cell_type": "code",
   "execution_count": null,
   "metadata": {},
   "outputs": [],
   "source": [
    "#On estime l'erreur effectuée\n",
    "meanerr = 0\n",
    "moyenne = np.mean(prediction)\n",
    "for i in range(0,len(prediction)):\n",
    "    meanerr += abs(prediction[i] - Ytestbis[i])\n",
    "print(meanerr/len(prediction))"
   ]
  },
  {
   "cell_type": "markdown",
   "metadata": {},
   "source": [
    "## 2 - Prédiction des données"
   ]
  },
  {
   "cell_type": "markdown",
   "metadata": {},
   "source": [
    "### a - Entrainement du modèle sur l'échantillon train"
   ]
  },
  {
   "cell_type": "code",
   "execution_count": 65,
   "metadata": {},
   "outputs": [],
   "source": [
    "reg = GradientBoostingRegressor(loss = 'lad',criterion = 'mse',max_features = 'sqrt',subsample = 0.8,alpha = 0.99,n_estimators = 200)\n",
    "\n",
    "reg.fit(Xtrain[['degree','katz','eigen','closeness','pagerank']], Ytrain)"
   ]
  },
  {
   "cell_type": "markdown",
   "metadata": {},
   "source": [
    "### b - Prédiction"
   ]
  },
  {
   "cell_type": "code",
   "execution_count": null,
   "metadata": {},
   "outputs": [],
   "source": [
    "prediction = reg.predict(Xtest[['degree','katz','eigen','closeness','pagerank']])"
   ]
  },
  {
   "cell_type": "code",
   "execution_count": null,
   "metadata": {},
   "outputs": [],
   "source": [
    "evaluation = pd.DataFrame(test['id'])\n",
    "evaluation['predicted'] = prediction\n",
    "evaluation.to_csv(\"Prediction_9.csv\",index = False)"
   ]
  },
  {
   "cell_type": "markdown",
   "metadata": {},
   "source": [
    "### c - Deuxième analyse pour tenter d'ajuster les scores au dessus de 100"
   ]
  },
  {
   "cell_type": "code",
   "execution_count": 89,
   "metadata": {},
   "outputs": [],
   "source": [
    "index = list()\n",
    "for i in range(0,len(prediction)) :\n",
    "    if prediction[i] >100:\n",
    "        index.append(i)"
   ]
  },
  {
   "cell_type": "code",
   "execution_count": 206,
   "metadata": {},
   "outputs": [],
   "source": [
    "#récupération des pos des Ytrainbis > 100\n",
    "pos = []\n",
    "for i in range(0,len(Ytrainbis)) :\n",
    "    if Ytrainbis[i] >= 100:\n",
    "        pos.append(i)"
   ]
  },
  {
   "cell_type": "code",
   "execution_count": 209,
   "metadata": {},
   "outputs": [],
   "source": [
    "# 1 entrainement sur toute les données puis pred avec sgb\n",
    "# 1 entrainement pour les prediction > 50 avec tree\n",
    "# on regarde les pred > 50 on les entraine avec tree\n",
    "X = pd.DataFrame(Xtrainbis).iloc[pos]\n",
    "Y = pd.DataFrame(Ytrainbis).iloc[pos]\n",
    "dtr = DecisionTreeClassifier()\n",
    "X = pd.DataFrame(X[['degree','katz','eigen','closeness','pagerank']])\n",
    "\n",
    "dtr.fit(X,Y)"
   ]
  },
  {
   "cell_type": "code",
   "execution_count": 216,
   "metadata": {},
   "outputs": [
    {
     "data": {
      "text/plain": [
       "9831"
      ]
     },
     "execution_count": 216,
     "metadata": {},
     "output_type": "execute_result"
    }
   ],
   "source": [
    "posi = []\n",
    "for i in range(0,len(prediction)):\n",
    "    if prediction[i]> 50:\n",
    "        posi.append(i)\n",
    "len(posi)"
   ]
  },
  {
   "cell_type": "code",
   "execution_count": 221,
   "metadata": {},
   "outputs": [],
   "source": [
    "Xtestbis= Xtestbis.reset_index().drop('index',axis = 1)\n",
    "Xprime = pd.DataFrame(Xtestbis).iloc[posi]\n",
    "Xprime = pd.DataFrame(Xprime[['degree','katz','eigen','closeness','pagerank']])\n",
    "predi = dtr.predict(Xprime)\n",
    "p = prediction"
   ]
  },
  {
   "cell_type": "code",
   "execution_count": 241,
   "metadata": {},
   "outputs": [],
   "source": [
    "i = 0\n",
    "for element in posi:\n",
    "    p[element] = (predi[i])\n",
    "    i+=1"
   ]
  },
  {
   "cell_type": "code",
   "execution_count": 242,
   "metadata": {},
   "outputs": [
    {
     "name": "stdout",
     "output_type": "stream",
     "text": [
      "11.2841532574987\n"
     ]
    }
   ],
   "source": [
    "meanerr = 0\n",
    "moyenne = np.mean(prediction)\n",
    "for i in range(0,len(prediction)):\n",
    "    meanerr += abs(p[i] - Ytestbis[i])\n",
    "print(meanerr/len(prediction))"
   ]
  }
 ],
 "metadata": {
  "kernelspec": {
   "display_name": "Python 3",
   "language": "python",
   "name": "python3"
  },
  "language_info": {
   "codemirror_mode": {
    "name": "ipython",
    "version": 3
   },
   "file_extension": ".py",
   "mimetype": "text/x-python",
   "name": "python",
   "nbconvert_exporter": "python",
   "pygments_lexer": "ipython3",
   "version": "3.7.3"
  }
 },
 "nbformat": 4,
 "nbformat_minor": 4
}
